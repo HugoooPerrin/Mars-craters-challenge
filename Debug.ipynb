{
 "cells": [
  {
   "cell_type": "code",
   "execution_count": 1,
   "metadata": {},
   "outputs": [],
   "source": [
    "# Perso\n",
    "import sys\n",
    "sys.path.append('/home/hugoperrin/Bureau/X/Cours/Data_camp/mars_craters/perso/')\n",
    "from object_detector import *\n",
    "\n",
    "import numpy as np\n",
    "import pandas as pd\n",
    "\n",
    "# Data\n",
    "Xtrain = np.load('/home/hugoperrin/Bureau/X/Cours/Data_camp/mars_craters/data/data_train_mini.npy')\n",
    "Ytrain = pd.read_csv('/home/hugoperrin/Bureau/X/Cours/Data_camp/mars_craters/data/labels_train_mini.csv').values"
   ]
  },
  {
   "cell_type": "code",
   "execution_count": 2,
   "metadata": {},
   "outputs": [],
   "source": [
    "batches = CraterDataset(Xtrain, BATCH_SIZE, Ytrain)"
   ]
  },
  {
   "cell_type": "code",
   "execution_count": 3,
   "metadata": {},
   "outputs": [],
   "source": [
    "for inputs, idx in batches.loader:\n",
    "    break"
   ]
  },
  {
   "cell_type": "code",
   "execution_count": 4,
   "metadata": {},
   "outputs": [
    {
     "data": {
      "text/plain": [
       "torch.Size([16, 3, 224, 224])"
      ]
     },
     "execution_count": 4,
     "metadata": {},
     "output_type": "execute_result"
    }
   ],
   "source": [
    "inputs.shape"
   ]
  },
  {
   "cell_type": "code",
   "execution_count": 5,
   "metadata": {},
   "outputs": [
    {
     "data": {
      "text/plain": [
       "tensor([ 7.,  5.,  2., 29., 17., 10., 11., 18., 25., 20., 13.,  9., 23., 21.,\n",
       "         8., 14.])"
      ]
     },
     "execution_count": 5,
     "metadata": {},
     "output_type": "execute_result"
    }
   ],
   "source": [
    "idx"
   ]
  },
  {
   "cell_type": "code",
   "execution_count": 6,
   "metadata": {},
   "outputs": [],
   "source": [
    "net = create_SSD(config=config, pretrained=True, device='cuda:0')"
   ]
  },
  {
   "cell_type": "code",
   "execution_count": 7,
   "metadata": {},
   "outputs": [],
   "source": [
    "LEARNING_RATE = 1e-6\n",
    "MOMENTUM = 0.9\n",
    "WEIGHT_DECAY = 1e-4\n",
    "\n",
    "optimizer = optim.SGD(net.parameters(), lr=LEARNING_RATE,\n",
    "                                        momentum=MOMENTUM,\n",
    "                                        weight_decay=WEIGHT_DECAY)"
   ]
  },
  {
   "cell_type": "code",
   "execution_count": 9,
   "metadata": {},
   "outputs": [],
   "source": [
    "net.train()\n",
    "\n",
    "# Variable\n",
    "inputs = Variable(inputs).to('cuda:0')\n",
    "\n",
    "# Zero the parameter gradients\n",
    "optimizer.zero_grad()\n",
    "\n",
    "# Forward\n",
    "loc, conf, prior = net(inputs)\n",
    "\n",
    "loss = 0"
   ]
  },
  {
   "cell_type": "code",
   "execution_count": 10,
   "metadata": {},
   "outputs": [],
   "source": [
    "# Loop on batch\n",
    "image_idx = 0"
   ]
  },
  {
   "cell_type": "code",
   "execution_count": 11,
   "metadata": {},
   "outputs": [],
   "source": [
    "# Get true craters\n",
    "current_label_idx = idx[0]\n",
    "true_circles = batches.Ytrain[batches.Ytrain[:, 0] == current_label_idx, 1:4] / 224 # Normalization to get same scale as priors\n",
    "n_true = true_circles.size(0)\n",
    "true_circles = Variable(true_circles).to('cuda:0')"
   ]
  },
  {
   "cell_type": "code",
   "execution_count": 29,
   "metadata": {},
   "outputs": [
    {
     "data": {
      "text/plain": [
       "tensor([[0.6473, 0.3170, 0.0299],\n",
       "        [0.3036, 0.3929, 0.0301]], device='cuda:0')"
      ]
     },
     "execution_count": 29,
     "metadata": {},
     "output_type": "execute_result"
    }
   ],
   "source": [
    "true_circles"
   ]
  },
  {
   "cell_type": "code",
   "execution_count": 13,
   "metadata": {},
   "outputs": [],
   "source": [
    "# Get prediction\n",
    "predicted_loc = loc[image_idx]\n",
    "predicted_conf = conf[image_idx]"
   ]
  },
  {
   "cell_type": "code",
   "execution_count": 20,
   "metadata": {},
   "outputs": [],
   "source": [
    "# Matching\n",
    "matches = match(prior, true_circles, threshold=0.4)\n",
    "goal = encode_ground_truth(true_circles, prior, matches)"
   ]
  },
  {
   "cell_type": "code",
   "execution_count": 21,
   "metadata": {},
   "outputs": [
    {
     "data": {
      "text/plain": [
       "(tensor([1., 1.], device='cuda:0'), tensor([485, 577], device='cuda:0'))"
      ]
     },
     "execution_count": 21,
     "metadata": {},
     "output_type": "execute_result"
    }
   ],
   "source": [
    "matches.max(dim=0)"
   ]
  },
  {
   "cell_type": "code",
   "execution_count": 22,
   "metadata": {},
   "outputs": [
    {
     "data": {
      "text/plain": [
       "tensor([[-1.6667,  1.6667, -9.8826],\n",
       "        [ 0.0000,  2.2222, -9.8083],\n",
       "        [ 0.0000, -2.2222, -9.8083],\n",
       "        [-2.2222,  0.0000, -9.8083]], device='cuda:0')"
      ]
     },
     "execution_count": 22,
     "metadata": {},
     "output_type": "execute_result"
    }
   ],
   "source": [
    "goal"
   ]
  },
  {
   "cell_type": "code",
   "execution_count": null,
   "metadata": {},
   "outputs": [],
   "source": [
    "prior[456, :]"
   ]
  },
  {
   "cell_type": "code",
   "execution_count": 44,
   "metadata": {},
   "outputs": [
    {
     "data": {
      "text/plain": [
       "tensor([0.4438, 0.4635, 0.4635, 0.4635], device='cuda:0')"
      ]
     },
     "execution_count": 44,
     "metadata": {},
     "output_type": "execute_result"
    }
   ],
   "source": [
    "compute_IoU(prior, true_circles)[compute_IoU(prior, true_circles) > 0.4]"
   ]
  },
  {
   "cell_type": "code",
   "execution_count": null,
   "metadata": {},
   "outputs": [],
   "source": [
    "predicted_loc[456]"
   ]
  },
  {
   "cell_type": "code",
   "execution_count": 26,
   "metadata": {},
   "outputs": [
    {
     "data": {
      "text/plain": [
       "tensor([[0, 0],\n",
       "        [0, 0],\n",
       "        [0, 0],\n",
       "        ...,\n",
       "        [0, 0],\n",
       "        [0, 0],\n",
       "        [0, 0]], device='cuda:0', dtype=torch.uint8)"
      ]
     },
     "execution_count": 26,
     "metadata": {},
     "output_type": "execute_result"
    }
   ],
   "source": [
    "(compute_IoU(prior, true_circles) > 0.35).squeeze()"
   ]
  },
  {
   "cell_type": "code",
   "execution_count": 36,
   "metadata": {},
   "outputs": [
    {
     "data": {
      "text/plain": [
       "tensor([[67.6654, 83.8728,  9.8965],\n",
       "        [67.6452, 83.5292, 17.1917],\n",
       "        [67.8376, 91.5094,  9.2620],\n",
       "        [69.3440, 91.5255, 16.7277],\n",
       "        [71.9570, 87.9973,  9.9644],\n",
       "        [71.9090, 87.9358, 18.0373]], device='cuda:0', grad_fn=<MulBackward>)"
      ]
     },
     "execution_count": 36,
     "metadata": {},
     "output_type": "execute_result"
    }
   ],
   "source": [
    "decode_location(predicted_loc, prior)[(compute_IoU(prior, true_circles) > 0.35)[:, 1]] * 224"
   ]
  },
  {
   "cell_type": "code",
   "execution_count": 38,
   "metadata": {},
   "outputs": [
    {
     "data": {
      "text/plain": [
       "tensor([[68., 84.,  5.],\n",
       "        [68., 84.,  9.],\n",
       "        [68., 92.,  5.],\n",
       "        [68., 92.,  9.],\n",
       "        [72., 88.,  5.],\n",
       "        [72., 88.,  9.]], device='cuda:0')"
      ]
     },
     "execution_count": 38,
     "metadata": {},
     "output_type": "execute_result"
    }
   ],
   "source": [
    "prior[(compute_IoU(prior, true_circles) > 0.35)[:, 1]] * 224"
   ]
  },
  {
   "cell_type": "code",
   "execution_count": 37,
   "metadata": {},
   "outputs": [
    {
     "data": {
      "text/plain": [
       "tensor([68.0000, 88.0000,  6.7500], device='cuda:0')"
      ]
     },
     "execution_count": 37,
     "metadata": {},
     "output_type": "execute_result"
    }
   ],
   "source": [
    "true_circles[1, :] * 224"
   ]
  },
  {
   "cell_type": "code",
   "execution_count": 39,
   "metadata": {},
   "outputs": [],
   "source": [
    "target, indices = matches.max(dim=1)"
   ]
  },
  {
   "cell_type": "code",
   "execution_count": 41,
   "metadata": {},
   "outputs": [],
   "source": [
    "positive_pred = predicted_conf[target == 1]\n",
    "num_pos = positive_pred.size(0)"
   ]
  },
  {
   "cell_type": "code",
   "execution_count": 42,
   "metadata": {},
   "outputs": [],
   "source": [
    "raw_negative_pred = predicted_conf[target == 0]\n",
    "raw_num_neg = raw_negative_pred.size(0)\n",
    "\n",
    "# Hard negative mining (reduce the ratio of negative over positive samples to 3:1)\n",
    "num_neg = min(3 * num_pos, raw_num_neg)\n",
    "negative_pred = raw_negative_pred.sort(dim=0, descending=True)[0][0:num_neg]\n",
    "\n",
    "prediction = torch.cat([positive_pred, negative_pred]).view(-1).to('cuda:0')\n",
    "target_conf = torch.cat([torch.ones(num_pos), torch.zeros(num_neg)]).view(-1).to('cuda:0')"
   ]
  },
  {
   "cell_type": "code",
   "execution_count": 43,
   "metadata": {},
   "outputs": [
    {
     "data": {
      "text/plain": [
       "(tensor([ 0.6622, -0.1229, -0.1152,  0.0015,  1.5372,  1.5087,  1.4499,  1.3746,\n",
       "          1.2654,  1.2596,  1.2561,  1.2348,  1.2309,  1.2293,  1.2257,  1.2210],\n",
       "        device='cuda:0', grad_fn=<ViewBackward>),\n",
       " tensor([1., 1., 1., 1., 0., 0., 0., 0., 0., 0., 0., 0., 0., 0., 0., 0.],\n",
       "        device='cuda:0'))"
      ]
     },
     "execution_count": 43,
     "metadata": {},
     "output_type": "execute_result"
    }
   ],
   "source": [
    "prediction, target_conf"
   ]
  },
  {
   "cell_type": "code",
   "execution_count": null,
   "metadata": {},
   "outputs": [],
   "source": [
    "conf_loss = nn.BCEWithLogitsLoss(reduction='sum')\n",
    "image_conf_loss = conf_loss(prediction, target_conf) / num_pos"
   ]
  },
  {
   "cell_type": "code",
   "execution_count": null,
   "metadata": {},
   "outputs": [],
   "source": [
    "image_conf_loss"
   ]
  },
  {
   "cell_type": "code",
   "execution_count": null,
   "metadata": {},
   "outputs": [],
   "source": [
    "nn.Sigmoid()(prediction)"
   ]
  },
  {
   "cell_type": "code",
   "execution_count": null,
   "metadata": {},
   "outputs": [],
   "source": [
    "pred_loc = predicted_loc[target == 1]"
   ]
  },
  {
   "cell_type": "code",
   "execution_count": null,
   "metadata": {},
   "outputs": [],
   "source": [
    "pred_loc"
   ]
  },
  {
   "cell_type": "code",
   "execution_count": null,
   "metadata": {},
   "outputs": [],
   "source": [
    "loc_loss = F.smooth_l1_loss(pred_loc, goal, reduction='sum') / num_pos"
   ]
  },
  {
   "cell_type": "code",
   "execution_count": null,
   "metadata": {},
   "outputs": [],
   "source": [
    "loc_loss"
   ]
  },
  {
   "cell_type": "code",
   "execution_count": null,
   "metadata": {},
   "outputs": [],
   "source": [
    "# Image loss\n",
    "image_loss = multi_circle_loss(predicted_loc, goal, predicted_conf, matches, 1)\n",
    "\n",
    "image_loss"
   ]
  },
  {
   "cell_type": "code",
   "execution_count": null,
   "metadata": {},
   "outputs": [],
   "source": [
    "image_conf_loss + loc_loss"
   ]
  },
  {
   "cell_type": "code",
   "execution_count": null,
   "metadata": {},
   "outputs": [],
   "source": []
  }
 ],
 "metadata": {
  "kernelspec": {
   "display_name": "Python3.5",
   "language": "python",
   "name": "python3.5"
  },
  "language_info": {
   "codemirror_mode": {
    "name": "ipython",
    "version": 3
   },
   "file_extension": ".py",
   "mimetype": "text/x-python",
   "name": "python",
   "nbconvert_exporter": "python",
   "pygments_lexer": "ipython3",
   "version": "3.5.6"
  }
 },
 "nbformat": 4,
 "nbformat_minor": 2
}
