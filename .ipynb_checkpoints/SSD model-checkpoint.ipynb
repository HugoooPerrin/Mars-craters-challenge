{
 "cells": [
  {
   "cell_type": "code",
   "execution_count": 1,
   "metadata": {},
   "outputs": [
    {
     "name": "stdout",
     "output_type": "stream",
     "text": [
      "location shape: torch.Size([8, 2100, 3])\n",
      "Confidence shape: torch.Size([8, 2100, 1])\n",
      "Prior shape: torch.Size([2100, 3])\n"
     ]
    }
   ],
   "source": [
    "#=========================================================================================================\n",
    "#================================ 0. MODULE\n",
    "\n",
    "# Classic\n",
    "import numpy as np\n",
    "import pandas as pd\n",
    "\n",
    "# Pytorch framework\n",
    "import torch\n",
    "import torch.nn as nn\n",
    "import torchvision\n",
    "import torch.nn.functional as F\n",
    "import torch.nn.init as init\n",
    "import torchvision.models as models\n",
    "from torch.autograd import Function\n",
    "from torch.autograd import Variable\n",
    "import torchvision.models as models\n",
    "\n",
    "# Utils\n",
    "from typing import List, Tuple\n",
    "from itertools import product as product\n",
    "from math import sqrt\n",
    "from math import pi\n",
    "\n",
    "# Perso\n",
    "import sys\n",
    "sys.path.append('/home/hugoperrin/Bureau/X/Cours/Data_camp/mars_craters/perso/')\n",
    "from object_detector import *\n",
    "\n",
    "device = 'cuda:0'\n",
    "\n",
    "BATCH_SIZE = 8\n",
    "\n",
    "net = create_SSD(config=config, device=device)\n",
    "x = torch.rand(BATCH_SIZE, 3, 224, 224).to(device)\n",
    "loc, conf, prior = net(x)\n",
    "\n",
    "print('location shape: {}'.format(loc.shape))\n",
    "print('Confidence shape: {}'.format(conf.shape))\n",
    "print('Prior shape: {}'.format(prior.shape))"
   ]
  },
  {
   "cell_type": "code",
   "execution_count": 2,
   "metadata": {},
   "outputs": [],
   "source": [
    "image_idx = 4\n",
    "\n",
    "# Computed predicted circles\n",
    "predicted_circles = loc[image_idx]\n",
    "predicted_conf = conf[image_idx]\n",
    "\n",
    "# Get ground truth\n",
    "path = '/home/hugoperrin/Bureau/X/Cours/Data_camp/mars_craters/data/labels_train_mini.csv'\n",
    "labels = pd.read_csv(path)\n",
    "truth = labels[labels['i'] == image_idx].drop(['i'], axis=1).values\n",
    "true_circles = torch.tensor(truth, dtype=torch.float).to(device) / 224"
   ]
  },
  {
   "cell_type": "code",
   "execution_count": 3,
   "metadata": {
    "scrolled": true
   },
   "outputs": [
    {
     "data": {
      "text/plain": [
       "(torch.Size([2100, 3]), torch.Size([2, 3]), torch.Size([2100, 1]))"
      ]
     },
     "execution_count": 3,
     "metadata": {},
     "output_type": "execute_result"
    }
   ],
   "source": [
    "predicted_circles.shape, true_circles.shape, predicted_conf.shape"
   ]
  },
  {
   "cell_type": "code",
   "execution_count": 4,
   "metadata": {},
   "outputs": [
    {
     "data": {
      "text/plain": [
       "tensor([[ 37.0000,  70.0000,   5.2500],\n",
       "        [121.0000,  66.0000,   8.3500]], device='cuda:0')"
      ]
     },
     "execution_count": 4,
     "metadata": {},
     "output_type": "execute_result"
    }
   ],
   "source": [
    "true_circles * 224"
   ]
  },
  {
   "cell_type": "code",
   "execution_count": 5,
   "metadata": {},
   "outputs": [],
   "source": [
    "matches = match(prior, true_circles, threshold=0.4)"
   ]
  },
  {
   "cell_type": "code",
   "execution_count": 6,
   "metadata": {},
   "outputs": [],
   "source": [
    "target, indices = matches.max(dim=1)"
   ]
  },
  {
   "cell_type": "code",
   "execution_count": 7,
   "metadata": {},
   "outputs": [
    {
     "data": {
      "text/plain": [
       "tensor([[ 0.2000,  0.4000,  0.0488],\n",
       "        [-0.2308, -0.1538, -0.4427]], device='cuda:0')"
      ]
     },
     "execution_count": 7,
     "metadata": {},
     "output_type": "execute_result"
    }
   ],
   "source": [
    "goal = encode_ground_truth(true_circles, prior, matches)\n",
    "goal"
   ]
  },
  {
   "cell_type": "code",
   "execution_count": 8,
   "metadata": {},
   "outputs": [
    {
     "data": {
      "text/plain": [
       "tensor([[ 37.0000,  70.0000,   5.2500],\n",
       "        [121.0000,  66.0000,   8.3500]], device='cuda:0')"
      ]
     },
     "execution_count": 8,
     "metadata": {},
     "output_type": "execute_result"
    }
   ],
   "source": [
    "decode_location(goal, prior[target == 1]) * 224"
   ]
  },
  {
   "cell_type": "code",
   "execution_count": null,
   "metadata": {},
   "outputs": [],
   "source": []
  }
 ],
 "metadata": {
  "kernelspec": {
   "display_name": "Python3.5",
   "language": "python",
   "name": "python3.5"
  },
  "language_info": {
   "codemirror_mode": {
    "name": "ipython",
    "version": 3
   },
   "file_extension": ".py",
   "mimetype": "text/x-python",
   "name": "python",
   "nbconvert_exporter": "python",
   "pygments_lexer": "ipython3",
   "version": "3.5.6"
  }
 },
 "nbformat": 4,
 "nbformat_minor": 2
}
