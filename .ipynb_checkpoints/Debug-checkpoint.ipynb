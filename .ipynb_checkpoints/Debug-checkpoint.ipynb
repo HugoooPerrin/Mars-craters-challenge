{
 "cells": [
  {
   "cell_type": "code",
   "execution_count": 1,
   "metadata": {},
   "outputs": [],
   "source": [
    "# Perso\n",
    "import sys\n",
    "sys.path.append('/home/hugoperrin/Bureau/X/Cours/Data_camp/mars_craters/perso/')\n",
    "from object_detector import *\n",
    "\n",
    "import numpy as np\n",
    "import pandas as pd\n",
    "\n",
    "# Data\n",
    "Xtrain = np.load('/home/hugoperrin/Bureau/X/Cours/Data_camp/mars_craters/data/data_train_mini.npy')\n",
    "Ytrain = pd.read_csv('/home/hugoperrin/Bureau/X/Cours/Data_camp/mars_craters/data/labels_train_mini.csv').values"
   ]
  },
  {
   "cell_type": "code",
   "execution_count": 2,
   "metadata": {},
   "outputs": [],
   "source": [
    "batches = CraterDataset(Xtrain, BATCH_SIZE, Ytrain)"
   ]
  },
  {
   "cell_type": "code",
   "execution_count": 3,
   "metadata": {},
   "outputs": [],
   "source": [
    "for inputs, idx in batches.loader:\n",
    "    break"
   ]
  },
  {
   "cell_type": "code",
   "execution_count": 4,
   "metadata": {},
   "outputs": [
    {
     "data": {
      "text/plain": [
       "torch.Size([16, 3, 224, 224])"
      ]
     },
     "execution_count": 4,
     "metadata": {},
     "output_type": "execute_result"
    }
   ],
   "source": [
    "inputs.shape"
   ]
  },
  {
   "cell_type": "code",
   "execution_count": 5,
   "metadata": {},
   "outputs": [
    {
     "data": {
      "text/plain": [
       "tensor([ 4.,  2., 23., 14., 16., 28., 21., 22., 12.,  6., 18., 20., 24.,  7.,\n",
       "         5.,  8.])"
      ]
     },
     "execution_count": 5,
     "metadata": {},
     "output_type": "execute_result"
    }
   ],
   "source": [
    "idx"
   ]
  },
  {
   "cell_type": "code",
   "execution_count": 6,
   "metadata": {},
   "outputs": [],
   "source": [
    "net = create_SSD(config=config, pretrained=False, device='cuda:0')"
   ]
  },
  {
   "cell_type": "code",
   "execution_count": 7,
   "metadata": {},
   "outputs": [],
   "source": [
    "LEARNING_RATE = 1e-6\n",
    "MOMENTUM = 0.9\n",
    "WEIGHT_DECAY = 1e-4\n",
    "\n",
    "optimizer = optim.SGD(net.parameters(), lr=LEARNING_RATE,\n",
    "                                        momentum=MOMENTUM,\n",
    "                                        weight_decay=WEIGHT_DECAY)"
   ]
  },
  {
   "cell_type": "code",
   "execution_count": 8,
   "metadata": {},
   "outputs": [],
   "source": [
    "net.train()\n",
    "\n",
    "# Variable\n",
    "inputs = Variable(inputs).to('cuda:0')\n",
    "\n",
    "# Zero the parameter gradients\n",
    "optimizer.zero_grad()\n",
    "\n",
    "# Forward\n",
    "loc, conf, prior = net(inputs)\n",
    "\n",
    "loss = 0\n",
    "\n",
    "# Loop on batch\n",
    "for image_idx in range(inputs.size(0)):\n",
    "    break"
   ]
  },
  {
   "cell_type": "code",
   "execution_count": 9,
   "metadata": {},
   "outputs": [],
   "source": [
    "# Get true craters\n",
    "current_label_idx = idx[image_idx]\n",
    "true_circles = batches.Ytrain[batches.Ytrain[:, 0] == current_label_idx, 1:4] / 224 # Normalization to get same scale as priors\n",
    "n_true = true_circles.size(0)\n",
    "true_circles = Variable(true_circles).to('cuda:0')"
   ]
  },
  {
   "cell_type": "code",
   "execution_count": 10,
   "metadata": {},
   "outputs": [
    {
     "data": {
      "text/plain": [
       "tensor([[0.1652, 0.3125, 0.0234],\n",
       "        [0.5402, 0.2946, 0.0373]], device='cuda:0')"
      ]
     },
     "execution_count": 10,
     "metadata": {},
     "output_type": "execute_result"
    }
   ],
   "source": [
    "true_circles"
   ]
  },
  {
   "cell_type": "code",
   "execution_count": 11,
   "metadata": {},
   "outputs": [],
   "source": [
    "# Get prediction\n",
    "predicted_loc = loc[image_idx]\n",
    "predicted_conf = conf[image_idx]"
   ]
  },
  {
   "cell_type": "code",
   "execution_count": 45,
   "metadata": {},
   "outputs": [],
   "source": [
    "# Matching\n",
    "matches = match(prior, true_circles, threshold=0.25)\n",
    "goal = encode_ground_truth(true_circles, prior, matches)"
   ]
  },
  {
   "cell_type": "code",
   "execution_count": 46,
   "metadata": {},
   "outputs": [
    {
     "data": {
      "text/plain": [
       "(tensor([1., 1.], device='cuda:0'), tensor([456, 421], device='cuda:0'))"
      ]
     },
     "execution_count": 46,
     "metadata": {},
     "output_type": "execute_result"
    }
   ],
   "source": [
    "matches.max(dim=0)"
   ]
  },
  {
   "cell_type": "code",
   "execution_count": 14,
   "metadata": {},
   "outputs": [
    {
     "data": {
      "text/plain": [
       "tensor([0.1607, 0.3036, 0.0223], device='cuda:0')"
      ]
     },
     "execution_count": 14,
     "metadata": {},
     "output_type": "execute_result"
    }
   ],
   "source": [
    "prior[456, :]"
   ]
  },
  {
   "cell_type": "code",
   "execution_count": 16,
   "metadata": {},
   "outputs": [
    {
     "data": {
      "text/plain": [
       "tensor([0.3038, 0.3641, 0.5660, 0.2756, 0.2710, 0.4456, 0.3534, 0.5705, 0.3895,\n",
       "        0.2756, 0.4013], device='cuda:0')"
      ]
     },
     "execution_count": 16,
     "metadata": {},
     "output_type": "execute_result"
    }
   ],
   "source": [
    "compute_IoU(prior, true_circles)[compute_IoU(prior, true_circles) > 0.25]"
   ]
  },
  {
   "cell_type": "code",
   "execution_count": 17,
   "metadata": {},
   "outputs": [
    {
     "data": {
      "text/plain": [
       "tensor([[ 1.0000,  2.0000, -3.2218],\n",
       "        [-1.5000, -1.0000, -4.3674]], device='cuda:0')"
      ]
     },
     "execution_count": 17,
     "metadata": {},
     "output_type": "execute_result"
    }
   ],
   "source": [
    "goal"
   ]
  },
  {
   "cell_type": "code",
   "execution_count": 18,
   "metadata": {},
   "outputs": [
    {
     "data": {
      "text/plain": [
       "tensor([-0.7660,  0.2124, -0.0477], device='cuda:0', grad_fn=<SelectBackward>)"
      ]
     },
     "execution_count": 18,
     "metadata": {},
     "output_type": "execute_result"
    }
   ],
   "source": [
    "predicted_loc[456]"
   ]
  },
  {
   "cell_type": "code",
   "execution_count": 21,
   "metadata": {},
   "outputs": [
    {
     "data": {
      "text/plain": [
       "tensor([[0, 0],\n",
       "        [0, 0],\n",
       "        [0, 0],\n",
       "        ...,\n",
       "        [0, 0],\n",
       "        [0, 0],\n",
       "        [0, 0]], device='cuda:0', dtype=torch.uint8)"
      ]
     },
     "execution_count": 21,
     "metadata": {},
     "output_type": "execute_result"
    }
   ],
   "source": [
    "(compute_IoU(prior, true_circles) > 0.25).squeeze()"
   ]
  },
  {
   "cell_type": "code",
   "execution_count": 26,
   "metadata": {},
   "outputs": [
    {
     "data": {
      "text/plain": [
       "tensor([[35.2340, 68.2124,  9.9051],\n",
       "        [36.0225, 69.4300, 18.1621],\n",
       "        [39.9898, 72.0292,  9.9617],\n",
       "        [39.9851, 71.9843, 20.0396]], device='cuda:0', grad_fn=<MulBackward>)"
      ]
     },
     "execution_count": 26,
     "metadata": {},
     "output_type": "execute_result"
    }
   ],
   "source": [
    "decode_location(predicted_loc, prior)[(compute_IoU(prior, true_circles) > 0.25)[:, 0]] * 224"
   ]
  },
  {
   "cell_type": "code",
   "execution_count": 25,
   "metadata": {},
   "outputs": [
    {
     "data": {
      "text/plain": [
       "tensor([37.0000, 70.0000,  5.2500], device='cuda:0')"
      ]
     },
     "execution_count": 25,
     "metadata": {},
     "output_type": "execute_result"
    }
   ],
   "source": [
    "true_circles[0,:] * 224"
   ]
  },
  {
   "cell_type": "code",
   "execution_count": 47,
   "metadata": {},
   "outputs": [],
   "source": [
    "target, indices = matches.max(dim=1)"
   ]
  },
  {
   "cell_type": "code",
   "execution_count": 48,
   "metadata": {},
   "outputs": [],
   "source": [
    "positive_pred = predicted_conf[target == 1]\n",
    "num_pos = positive_pred.size(0)"
   ]
  },
  {
   "cell_type": "code",
   "execution_count": 49,
   "metadata": {},
   "outputs": [],
   "source": [
    "raw_negative_pred = predicted_conf[target == 0]\n",
    "raw_num_neg = raw_negative_pred.size(0)\n",
    "\n",
    "# Hard negative mining (reduce the ratio of negative over positive samples to 3:1)\n",
    "num_neg = min(3 * num_pos, raw_num_neg)\n",
    "negative_pred = raw_negative_pred.sort(dim=0, descending=True)[0][0:num_neg]\n",
    "\n",
    "prediction = torch.cat([positive_pred, negative_pred]).view(-1).to('cuda:0')\n",
    "target_conf = torch.cat([torch.ones(num_pos), torch.zeros(num_neg)]).view(-1).to('cuda:0')"
   ]
  },
  {
   "cell_type": "code",
   "execution_count": 50,
   "metadata": {},
   "outputs": [
    {
     "data": {
      "text/plain": [
       "(tensor([-0.1320,  0.1107, -0.2986, -0.0195, -0.4825, -0.2375, -0.4075,  0.0112,\n",
       "         -0.0006,  0.0036,  0.0059,  0.3524,  0.3264,  0.3226,  0.3203,  0.3010,\n",
       "          0.2935,  0.2808,  0.2772,  0.2769,  0.2723,  0.2711,  0.2699,  0.2680,\n",
       "          0.2667,  0.2644,  0.2607,  0.2536,  0.2511,  0.2502,  0.2493,  0.2489,\n",
       "          0.2475,  0.2445,  0.2421,  0.2317,  0.2303,  0.2289,  0.2244,  0.2219,\n",
       "          0.2176,  0.2115,  0.2041,  0.2031],\n",
       "        device='cuda:0', grad_fn=<ViewBackward>),\n",
       " tensor([1., 1., 1., 1., 1., 1., 1., 1., 1., 1., 1., 0., 0., 0., 0., 0., 0., 0.,\n",
       "         0., 0., 0., 0., 0., 0., 0., 0., 0., 0., 0., 0., 0., 0., 0., 0., 0., 0.,\n",
       "         0., 0., 0., 0., 0., 0., 0., 0.], device='cuda:0'))"
      ]
     },
     "execution_count": 50,
     "metadata": {},
     "output_type": "execute_result"
    }
   ],
   "source": [
    "prediction, target_conf"
   ]
  },
  {
   "cell_type": "code",
   "execution_count": 53,
   "metadata": {},
   "outputs": [],
   "source": [
    "conf_loss = nn.BCEWithLogitsLoss(reduction='sum')\n",
    "image_conf_loss = conf_loss(prediction, target_conf) / num_pos"
   ]
  },
  {
   "cell_type": "code",
   "execution_count": 54,
   "metadata": {},
   "outputs": [
    {
     "data": {
      "text/plain": [
       "tensor(3.2608, device='cuda:0', grad_fn=<DivBackward0>)"
      ]
     },
     "execution_count": 54,
     "metadata": {},
     "output_type": "execute_result"
    }
   ],
   "source": [
    "image_conf_loss"
   ]
  },
  {
   "cell_type": "code",
   "execution_count": 55,
   "metadata": {},
   "outputs": [
    {
     "data": {
      "text/plain": [
       "tensor([0.4671, 0.5276, 0.4259, 0.4951, 0.3817, 0.4409, 0.3995, 0.5028, 0.4998,\n",
       "        0.5009, 0.5015, 0.5872, 0.5809, 0.5800, 0.5794, 0.5747, 0.5729, 0.5697,\n",
       "        0.5689, 0.5688, 0.5677, 0.5674, 0.5671, 0.5666, 0.5663, 0.5657, 0.5648,\n",
       "        0.5631, 0.5624, 0.5622, 0.5620, 0.5619, 0.5616, 0.5608, 0.5602, 0.5577,\n",
       "        0.5573, 0.5570, 0.5559, 0.5553, 0.5542, 0.5527, 0.5508, 0.5506],\n",
       "       device='cuda:0', grad_fn=<SigmoidBackward>)"
      ]
     },
     "execution_count": 55,
     "metadata": {},
     "output_type": "execute_result"
    }
   ],
   "source": [
    "nn.Sigmoid()(prediction)"
   ]
  },
  {
   "cell_type": "code",
   "execution_count": 56,
   "metadata": {},
   "outputs": [],
   "source": [
    "pred_loc = predicted_loc[target == 1]"
   ]
  },
  {
   "cell_type": "code",
   "execution_count": 57,
   "metadata": {},
   "outputs": [
    {
     "data": {
      "text/plain": [
       "tensor([[-0.1945,  0.5456, -0.3360],\n",
       "        [ 0.0596,  0.5120, -0.3085],\n",
       "        [-0.7660,  0.2124, -0.0477],\n",
       "        [ 0.0112,  0.7150, -0.4820],\n",
       "        [-0.9139,  0.1780, -0.1489],\n",
       "        [-0.1053,  0.6407, -0.3960],\n",
       "        [-0.8079,  0.1522, -0.0411],\n",
       "        [-0.0640,  0.5204, -0.3634],\n",
       "        [-0.0102,  0.0292, -0.0192],\n",
       "        [-0.0074, -0.0078,  0.0099],\n",
       "        [-0.0050, -0.0084,  0.0121]], device='cuda:0', grad_fn=<TakeBackward>)"
      ]
     },
     "execution_count": 57,
     "metadata": {},
     "output_type": "execute_result"
    }
   ],
   "source": [
    "pred_loc"
   ]
  },
  {
   "cell_type": "code",
   "execution_count": 58,
   "metadata": {},
   "outputs": [],
   "source": [
    "loc_loss = F.smooth_l1_loss(pred_loc, goal, reduction='sum') / num_pos"
   ]
  },
  {
   "cell_type": "code",
   "execution_count": 59,
   "metadata": {},
   "outputs": [
    {
     "data": {
      "text/plain": [
       "tensor(6.3227, device='cuda:0', grad_fn=<DivBackward0>)"
      ]
     },
     "execution_count": 59,
     "metadata": {},
     "output_type": "execute_result"
    }
   ],
   "source": [
    "loc_loss"
   ]
  },
  {
   "cell_type": "code",
   "execution_count": 60,
   "metadata": {},
   "outputs": [
    {
     "data": {
      "text/plain": [
       "tensor(9.5836, device='cuda:0', grad_fn=<ThAddBackward>)"
      ]
     },
     "execution_count": 60,
     "metadata": {},
     "output_type": "execute_result"
    }
   ],
   "source": [
    "# Image loss\n",
    "image_loss = multi_circle_loss(predicted_loc, goal, predicted_conf, matches, 1)\n",
    "\n",
    "image_loss"
   ]
  },
  {
   "cell_type": "code",
   "execution_count": 61,
   "metadata": {},
   "outputs": [
    {
     "data": {
      "text/plain": [
       "tensor(9.5836, device='cuda:0', grad_fn=<ThAddBackward>)"
      ]
     },
     "execution_count": 61,
     "metadata": {},
     "output_type": "execute_result"
    }
   ],
   "source": [
    "image_conf_loss + loc_loss"
   ]
  },
  {
   "cell_type": "code",
   "execution_count": null,
   "metadata": {},
   "outputs": [],
   "source": []
  }
 ],
 "metadata": {
  "kernelspec": {
   "display_name": "Python3.5",
   "language": "python",
   "name": "python3.5"
  },
  "language_info": {
   "codemirror_mode": {
    "name": "ipython",
    "version": 3
   },
   "file_extension": ".py",
   "mimetype": "text/x-python",
   "name": "python",
   "nbconvert_exporter": "python",
   "pygments_lexer": "ipython3",
   "version": "3.5.6"
  }
 },
 "nbformat": 4,
 "nbformat_minor": 2
}
