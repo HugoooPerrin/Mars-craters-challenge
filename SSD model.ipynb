{
 "cells": [
  {
   "cell_type": "code",
   "execution_count": 1,
   "metadata": {},
   "outputs": [
    {
     "name": "stdout",
     "output_type": "stream",
     "text": [
      "location shape: torch.Size([16, 2100, 3])\n",
      "Confidence shape: torch.Size([16, 2100, 1])\n",
      "Prior shape: torch.Size([2100, 3])\n"
     ]
    }
   ],
   "source": [
    "#=========================================================================================================\n",
    "#================================ 0. MODULE\n",
    "\n",
    "# Classic\n",
    "import numpy as np\n",
    "import pandas as pd\n",
    "\n",
    "# Pytorch framework\n",
    "import torch\n",
    "import torch.nn as nn\n",
    "import torchvision\n",
    "import torch.nn.functional as F\n",
    "import torch.nn.init as init\n",
    "import torchvision.models as models\n",
    "from torch.autograd import Function\n",
    "from torch.autograd import Variable\n",
    "import torchvision.models as models\n",
    "\n",
    "# Utils\n",
    "from typing import List, Tuple\n",
    "from itertools import product as product\n",
    "from math import sqrt\n",
    "from math import pi\n",
    "\n",
    "# Perso\n",
    "import sys\n",
    "sys.path.append('/home/hugoperrin/Bureau/X/Cours/Data_camp/mars_craters/perso/')\n",
    "from object_detector import *\n",
    "\n",
    "device = 'cuda:0'\n",
    "\n",
    "BATCH_SIZE = 16\n",
    "\n",
    "net = create_SSD(config=config, device=device)\n",
    "x = torch.rand(BATCH_SIZE, 3, 224, 224).to(device)\n",
    "loc, conf, prior = net(x)\n",
    "\n",
    "print('location shape: {}'.format(loc.shape))\n",
    "print('Confidence shape: {}'.format(conf.shape))\n",
    "print('Prior shape: {}'.format(prior.shape))"
   ]
  },
  {
   "cell_type": "code",
   "execution_count": 2,
   "metadata": {},
   "outputs": [],
   "source": [
    "image_idx = 10\n",
    "\n",
    "# Computed predicted circles\n",
    "predicted_circles = torch.clamp(prior.add(loc[image_idx]), min=0)\n",
    "predicted_conf = conf[image_idx]\n",
    "\n",
    "# Get ground truth\n",
    "path = '/home/hugoperrin/Bureau/X/Cours/Data_camp/mars_craters/data/labels_train_mini.csv'\n",
    "labels = pd.read_csv(path)\n",
    "truth = labels[labels['i'] == image_idx].drop(['i'], axis=1).values\n",
    "true_circles = torch.tensor(truth, dtype=torch.float).to(device) / 224"
   ]
  },
  {
   "cell_type": "code",
   "execution_count": 3,
   "metadata": {
    "scrolled": true
   },
   "outputs": [
    {
     "data": {
      "text/plain": [
       "(torch.Size([2100, 3]), torch.Size([4, 3]), torch.Size([2100, 1]))"
      ]
     },
     "execution_count": 3,
     "metadata": {},
     "output_type": "execute_result"
    }
   ],
   "source": [
    "predicted_circles.shape, true_circles.shape, predicted_conf.shape"
   ]
  },
  {
   "cell_type": "code",
   "execution_count": 4,
   "metadata": {},
   "outputs": [],
   "source": [
    "# # Testing IoU\n",
    "# circles_A = np.array([[68, 212, 5],\n",
    "#                       [10, 10, 20],\n",
    "#                       [10, 10, 20],\n",
    "#                       [10, 10, 0],\n",
    "#                       [39, 20, 20],\n",
    "#                       [0, 0, 0],\n",
    "#                       [45, 189, 12.5],\n",
    "#                       [11, 11, 5],\n",
    "#                       [60, 32, 5]])\n",
    "# circles_A = torch.tensor(circles_A, dtype=torch.float) / 224\n",
    "\n",
    "# conf = np.array([1, 1, 0.7, 1, 0.3, 0.2, 0.6, 0.7, 0.15])\n",
    "# conf = torch.tensor(conf, dtype=torch.float)\n",
    "\n",
    "# circles_B = np.array([[40, 10, 9],\n",
    "#                       [10, 10, 19],\n",
    "#                       [170, 10, 8],\n",
    "#                       [60, 32, 5]])\n",
    "# circles_B = torch.tensor(circles_B, dtype=torch.float) / 224"
   ]
  },
  {
   "cell_type": "code",
   "execution_count": 5,
   "metadata": {},
   "outputs": [],
   "source": [
    "matches = match(predicted_circles, true_circles, threshold=0.4)\n",
    "image_loss = multi_circle_loss(predicted_circles, true_circles, predicted_conf, matches, 2)"
   ]
  },
  {
   "cell_type": "code",
   "execution_count": null,
   "metadata": {},
   "outputs": [],
   "source": [
    "image_loss"
   ]
  }
 ],
 "metadata": {
  "kernelspec": {
   "display_name": "Python3.5",
   "language": "python",
   "name": "python3.5"
  },
  "language_info": {
   "codemirror_mode": {
    "name": "ipython",
    "version": 3
   },
   "file_extension": ".py",
   "mimetype": "text/x-python",
   "name": "python",
   "nbconvert_exporter": "python",
   "pygments_lexer": "ipython3",
   "version": "3.5.6"
  }
 },
 "nbformat": 4,
 "nbformat_minor": 2
}
